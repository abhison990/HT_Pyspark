{
 "cells": [
  {
   "cell_type": "code",
   "execution_count": 1,
   "metadata": {},
   "outputs": [],
   "source": [
    "import pyspark\n",
    "from pyspark.sql import SparkSession\n",
    "from pyspark.sql import SQLContext\n",
    "from pyspark.sql import functions as f\n",
    "from pyspark.sql.types import *\n",
    "import datetime\n",
    "import dateutil.relativedelta\n",
    "import os\n",
    "import sys\n",
    "import argparse\n",
    "\n",
    "spark = SparkSession.builder \\\n",
    ".master(\"local\") \\\n",
    ".appName(\"CS in HT\") \\\n",
    ".getOrCreate()"
   ]
  },
  {
   "cell_type": "code",
   "execution_count": 2,
   "metadata": {},
   "outputs": [
    {
     "name": "stdout",
     "output_type": "stream",
     "text": [
      "root\n",
      " |-- OIB: long (nullable = true)\n",
      " |-- CONTRACT.ACCOUNT: long (nullable = true)\n",
      " |-- Installment_Plan_No: integer (nullable = true)\n",
      " |-- Due_Date_YYYYMMDD: integer (nullable = true)\n",
      " |-- Clearing_Date_YYYYMMDD: integer (nullable = true)\n",
      " |-- Amount: double (nullable = true)\n",
      "\n",
      "+-----------+----------------+-------------------+-----------------+----------------------+------+\n",
      "|        OIB|CONTRACT.ACCOUNT|Installment_Plan_No|Due_Date_YYYYMMDD|Clearing_Date_YYYYMMDD|Amount|\n",
      "+-----------+----------------+-------------------+-----------------+----------------------+------+\n",
      "|73963505618|      4000037633|          210742472|         20180623|              20180620|318.57|\n",
      "|73963505618|      4000037633|          210742472|         20180523|              20180426| 13.43|\n",
      "+-----------+----------------+-------------------+-----------------+----------------------+------+\n",
      "only showing top 2 rows\n",
      "\n"
     ]
    }
   ],
   "source": [
    "paid = spark.read.option(\"header\",True).option(\"inferSchema\",True).option(\"delimiter\",\";\")\\\n",
    "   .csv(\"file:////home/abhijeet/spark coding/Data_sample/Paid_Installments_sample.csv\")\n",
    "paid.printSchema()\n",
    "paid.registerTempTable('p')\n",
    "paid.show(2)"
   ]
  },
  {
   "cell_type": "code",
   "execution_count": 8,
   "metadata": {},
   "outputs": [
    {
     "name": "stdout",
     "output_type": "stream",
     "text": [
      "DataFrame[OIB: bigint, CONTRACT.ACCOUNT: bigint, Installment_Plan_No: int, Due_Date_YYYYMMDD: int, Clearing_Date_YYYYMMDD: int, Amount: double, Due_Date: string, Clearing_Date: string]\n",
      "+-----------+----------------+-------------------+-----------------+----------------------+------+--------+-------------+\n",
      "|        OIB|CONTRACT.ACCOUNT|Installment_Plan_No|Due_Date_YYYYMMDD|Clearing_Date_YYYYMMDD|Amount|Due_Date|Clearing_Date|\n",
      "+-----------+----------------+-------------------+-----------------+----------------------+------+--------+-------------+\n",
      "|73963505618|      4000037633|          210742472|         20180623|              20180620|318.57|20180623|     20180620|\n",
      "|73963505618|      4000037633|          210742472|         20180523|              20180426| 13.43|20180523|     20180426|\n",
      "+-----------+----------------+-------------------+-----------------+----------------------+------+--------+-------------+\n",
      "only showing top 2 rows\n",
      "\n"
     ]
    }
   ],
   "source": [
    "cast=paid.withColumn(\"Due_Date\", f.expr(\"CAST(Due_Date_YYYYMMDD AS string)\")).\\\n",
    "withColumn(\"Clearing_Date\", f.expr(\"CAST(Clearing_Date_YYYYMMDD AS string)\"))\n",
    "print(cast)\n",
    "cast.show(2)"
   ]
  },
  {
   "cell_type": "code",
   "execution_count": 15,
   "metadata": {},
   "outputs": [
    {
     "name": "stdout",
     "output_type": "stream",
     "text": [
      "+-----------+----------------+-------------------+-----------------+----------------------+------+----------+-------------+\n",
      "|        OIB|CONTRACT.ACCOUNT|Installment_Plan_No|Due_Date_YYYYMMDD|Clearing_Date_YYYYMMDD|Amount|  Due_Date|Clearing_Date|\n",
      "+-----------+----------------+-------------------+-----------------+----------------------+------+----------+-------------+\n",
      "|73963505618|      4000037633|          210742472|         20180623|              20180620|318.57|2018-06-23|   2018-06-20|\n",
      "|73963505618|      4000037633|          210742472|         20180523|              20180426| 13.43|2018-05-23|   2018-04-26|\n",
      "|73963505618|      4000037633|          210742472|         20180523|              20180522|318.57|2018-05-23|   2018-05-22|\n",
      "|73963505618|      4000037633|          210742472|         20180823|              20180822|318.57|2018-08-23|   2018-08-22|\n",
      "|73963505618|      4000037633|          210742472|         20180623|              20180522| 13.43|2018-06-23|   2018-05-22|\n",
      "+-----------+----------------+-------------------+-----------------+----------------------+------+----------+-------------+\n",
      "only showing top 5 rows\n",
      "\n"
     ]
    }
   ],
   "source": [
    "cast1=cast.withColumn('Due_Date',f.to_date(f.unix_timestamp(cast.Due_Date, 'yyyyMMdd').cast('timestamp')))\\\n",
    ".withColumn('Clearing_Date',f.to_date(f.unix_timestamp(cast.Clearing_Date, 'yyyyMMdd').cast('timestamp')))\n",
    "\n",
    "cast1.show(5)"
   ]
  },
  {
   "cell_type": "code",
   "execution_count": 21,
   "metadata": {},
   "outputs": [
    {
     "name": "stdout",
     "output_type": "stream",
     "text": [
      "+-----------+----------------+-------------------+-----------------+----------------------+------+----------+-------------+------------+\n",
      "|        OIB|CONTRACT.ACCOUNT|Installment_Plan_No|Due_Date_YYYYMMDD|Clearing_Date_YYYYMMDD|Amount|  Due_Date|Clearing_Date|diff_in_days|\n",
      "+-----------+----------------+-------------------+-----------------+----------------------+------+----------+-------------+------------+\n",
      "|73963505618|      4000037633|          210742472|         20180623|              20180620|318.57|2018-06-23|   2018-06-20|          -3|\n",
      "|73963505618|      4000037633|          210742472|         20180523|              20180426| 13.43|2018-05-23|   2018-04-26|         -27|\n",
      "|73963505618|      4000037633|          210742472|         20180523|              20180522|318.57|2018-05-23|   2018-05-22|          -1|\n",
      "|73963505618|      4000037633|          210742472|         20180823|              20180822|318.57|2018-08-23|   2018-08-22|          -1|\n",
      "|73963505618|      4000037633|          210742472|         20180623|              20180522| 13.43|2018-06-23|   2018-05-22|         -32|\n",
      "|73963505618|      4000037633|          210742472|         20180423|              20180426|  0.08|2018-04-23|   2018-04-26|           3|\n",
      "|73963505618|      4000037633|          210742472|         20180823|              20180723| 13.43|2018-08-23|   2018-07-23|         -31|\n",
      "|73963505618|      4000037633|          210742472|         20180423|              20180423| 336.3|2018-04-23|   2018-04-23|           0|\n",
      "|73963505618|      4000037633|          210742472|         20180723|              20180723|318.57|2018-07-23|   2018-07-23|           0|\n",
      "|73963505618|      4000037633|          210742472|         20180723|              20180620| 13.43|2018-07-23|   2018-06-20|         -33|\n",
      "+-----------+----------------+-------------------+-----------------+----------------------+------+----------+-------------+------------+\n",
      "only showing top 10 rows\n",
      "\n"
     ]
    }
   ],
   "source": [
    "##For each row, find the number of days between the Clearing Date and \\\n",
    "##the Due Date (Clearing Date – Due Date as a number)\n",
    "df1=cast1.withColumn(\"diff_in_days\", f.datediff(f.col(\"Clearing_Date\"),f.col(\"Due_Date\")))\n",
    "df1.show(10)"
   ]
  },
  {
   "cell_type": "code",
   "execution_count": 23,
   "metadata": {},
   "outputs": [
    {
     "name": "stdout",
     "output_type": "stream",
     "text": [
      "+-----------+----------------+-------------------+-----------------+----------------------+------+----------+-------------+------------+--------+\n",
      "|        OIB|CONTRACT.ACCOUNT|Installment_Plan_No|Due_Date_YYYYMMDD|Clearing_Date_YYYYMMDD|Amount|  Due_Date|Clearing_Date|diff_in_days|Interval|\n",
      "+-----------+----------------+-------------------+-----------------+----------------------+------+----------+-------------+------------+--------+\n",
      "|73963505618|      4000037633|          210742472|         20180623|              20180620|318.57|2018-06-23|   2018-06-20|          -3| ON_TIME|\n",
      "|73963505618|      4000037633|          210742472|         20180523|              20180426| 13.43|2018-05-23|   2018-04-26|         -27| ON_TIME|\n",
      "|73963505618|      4000037633|          210742472|         20180523|              20180522|318.57|2018-05-23|   2018-05-22|          -1| ON_TIME|\n",
      "|73963505618|      4000037633|          210742472|         20180823|              20180822|318.57|2018-08-23|   2018-08-22|          -1| ON_TIME|\n",
      "|73963505618|      4000037633|          210742472|         20180623|              20180522| 13.43|2018-06-23|   2018-05-22|         -32| ON_TIME|\n",
      "+-----------+----------------+-------------------+-----------------+----------------------+------+----------+-------------+------------+--------+\n",
      "only showing top 5 rows\n",
      "\n"
     ]
    }
   ],
   "source": [
    "df2 = df1.withColumn(\"Interval\",f.expr(\"case  when diff_in_days>=1 and diff_in_days<=43 then 'remainder'\\\n",
    "                                              when diff_in_days>=44 and diff_in_days<=63 then 4463\\\n",
    "                                              when diff_in_days>=64 and diff_in_days<=93 then 6493\\\n",
    "                                              when diff_in_days>=94 then 94\\\n",
    "                                              when diff_in_days<=0 then 'ON_TIME' end\"))\n",
    "df2.show(5)\n",
    "df2.registerTempTable('pd')"
   ]
  },
  {
   "cell_type": "code",
   "execution_count": 27,
   "metadata": {},
   "outputs": [
    {
     "name": "stdout",
     "output_type": "stream",
     "text": [
      "+-----------+---------------+---------+-------+\n",
      "|        OIB|clearing_period| Interval| Amount|\n",
      "+-----------+---------------+---------+-------+\n",
      "|73963505618|         201806|  ON_TIME| 318.57|\n",
      "|73963505618|         201804|  ON_TIME|  13.43|\n",
      "|73963505618|         201805|  ON_TIME| 318.57|\n",
      "|73963505618|         201808|  ON_TIME| 318.57|\n",
      "|73963505618|         201805|  ON_TIME|  13.43|\n",
      "|73963505618|         201804|remainder|   0.08|\n",
      "|73963505618|         201807|  ON_TIME|  13.43|\n",
      "|73963505618|         201804|  ON_TIME|  336.3|\n",
      "|73963505618|         201807|  ON_TIME| 318.57|\n",
      "|73963505618|         201806|  ON_TIME|  13.43|\n",
      "|45735846206|         201708|  ON_TIME|  175.5|\n",
      "|45735846206|         201709|  ON_TIME| 173.57|\n",
      "|45735846206|         201709|  ON_TIME|   0.43|\n",
      "|49304755245|         201805|remainder| 1126.0|\n",
      "|49304755245|         201803|remainder|1126.37|\n",
      "|49304755245|         201804|  ON_TIME| 1126.0|\n",
      "|16929190683|         201712|  ON_TIME| 145.67|\n",
      "|16929190683|         201802|remainder|  144.0|\n",
      "|16929190683|         201801|  ON_TIME|  144.0|\n",
      "| 1736443133|         201806|  ON_TIME| 219.62|\n",
      "+-----------+---------------+---------+-------+\n",
      "only showing top 20 rows\n",
      "\n"
     ]
    }
   ],
   "source": [
    "##For each Clearing Period and each value in the OIB column, group the Amount by the specified intervals\n",
    "query1 = spark.sql(\"\"\"SELECT OIB,substr(Clearing_Date_YYYYMMDD,0,6) as clearing_period,pd.Interval,Amount from pd \"\"\")\n",
    "query1.registerTempTable('f')\n",
    "query1.show()"
   ]
  },
  {
   "cell_type": "code",
   "execution_count": null,
   "metadata": {},
   "outputs": [],
   "source": []
  },
  {
   "cell_type": "code",
   "execution_count": 18,
   "metadata": {},
   "outputs": [
    {
     "name": "stdout",
     "output_type": "stream",
     "text": [
      "+-----------+----------------+-------------------+-----------------+----------------------+-------+----------+-------------+---------+\n",
      "|        OIB|CONTRACT.ACCOUNT|Installment_Plan_No|Due_Date_YYYYMMDD|Clearing_Date_YYYYMMDD| Amount|  Due_Date|Clearing_Date|date_diff|\n",
      "+-----------+----------------+-------------------+-----------------+----------------------+-------+----------+-------------+---------+\n",
      "|73963505618|      4000037633|          210742472|         20180623|              20180620| 318.57|2018-06-23|   2018-06-20|  -259200|\n",
      "|73963505618|      4000037633|          210742472|         20180523|              20180426|  13.43|2018-05-23|   2018-04-26| -2332800|\n",
      "|73963505618|      4000037633|          210742472|         20180523|              20180522| 318.57|2018-05-23|   2018-05-22|   -86400|\n",
      "|73963505618|      4000037633|          210742472|         20180823|              20180822| 318.57|2018-08-23|   2018-08-22|   -86400|\n",
      "|73963505618|      4000037633|          210742472|         20180623|              20180522|  13.43|2018-06-23|   2018-05-22| -2764800|\n",
      "|73963505618|      4000037633|          210742472|         20180423|              20180426|   0.08|2018-04-23|   2018-04-26|   259200|\n",
      "|73963505618|      4000037633|          210742472|         20180823|              20180723|  13.43|2018-08-23|   2018-07-23| -2678400|\n",
      "|73963505618|      4000037633|          210742472|         20180423|              20180423|  336.3|2018-04-23|   2018-04-23|        0|\n",
      "|73963505618|      4000037633|          210742472|         20180723|              20180723| 318.57|2018-07-23|   2018-07-23|        0|\n",
      "|73963505618|      4000037633|          210742472|         20180723|              20180620|  13.43|2018-07-23|   2018-06-20| -2851200|\n",
      "|45735846206|      4000090730|          210622845|         20170824|              20170809|  175.5|2017-08-24|   2017-08-09| -1296000|\n",
      "|45735846206|      4000090730|          210622845|         20170924|              20170920| 173.57|2017-09-24|   2017-09-20|  -345600|\n",
      "|45735846206|      4000090730|          210622845|         20170924|              20170918|   0.43|2017-09-24|   2017-09-18|  -518400|\n",
      "|49304755245|      4000087477|          210725246|         20180505|              20180514| 1126.0|2018-05-05|   2018-05-14|   777600|\n",
      "|49304755245|      4000087477|          210725246|         20180305|              20180306|1126.37|2018-03-05|   2018-03-06|    86400|\n",
      "|49304755245|      4000087477|          210725246|         20180405|              20180404| 1126.0|2018-04-05|   2018-04-04|   -86400|\n",
      "|16929190683|      4000089604|          210670130|         20171208|              20171206| 145.67|2017-12-08|   2017-12-06|  -172800|\n",
      "|16929190683|      4000089604|          210670130|         20180208|              20180212|  144.0|2018-02-08|   2018-02-12|   345600|\n",
      "|16929190683|      4000089604|          210670130|         20180108|              20180108|  144.0|2018-01-08|   2018-01-08|        0|\n",
      "| 1736443133|      4000092901|          210769487|         20180628|              20180626| 219.62|2018-06-28|   2018-06-26|  -172800|\n",
      "+-----------+----------------+-------------------+-----------------+----------------------+-------+----------+-------------+---------+\n",
      "only showing top 20 rows\n",
      "\n"
     ]
    }
   ],
   "source": []
  },
  {
   "cell_type": "code",
   "execution_count": null,
   "metadata": {},
   "outputs": [],
   "source": []
  },
  {
   "cell_type": "code",
   "execution_count": null,
   "metadata": {},
   "outputs": [],
   "source": []
  },
  {
   "cell_type": "code",
   "execution_count": null,
   "metadata": {},
   "outputs": [],
   "source": [
    "cast1=cast.withColumn(\"Due_Date\", f.expr(\"CAST(Due_Date AS DATE)\")).\\\n",
    "withColumn(\"Clearing_Date\", f.expr(\"CAST(Clearing_Date AS DATE)\"))\n",
    "\n",
    "cast1.show(2)\n",
    "print(cast1)\n",
    "cast1.registerTempTable('c')"
   ]
  },
  {
   "cell_type": "code",
   "execution_count": null,
   "metadata": {},
   "outputs": [],
   "source": [
    "df = cast1.withColumn('date_diff', f.unix_timestamp('Clearing_Date')-f.unix_timestamp('Due_Date'))\n",
    "df.show()"
   ]
  },
  {
   "cell_type": "code",
   "execution_count": null,
   "metadata": {},
   "outputs": [],
   "source": [
    "#df=spark.sql(\"SELECT *,abs(datediff(date(Due_Date),date(Clearing_Date))) as diff_days from c\")\n",
    "#df.show(10)\n",
    "df1=cast.withColumn(\"diff_in_days\", f.datediff(f.col(\"Due_Date\"),f.col(\"Clearing_Date\")))\n",
    "df1.show(10)"
   ]
  },
  {
   "cell_type": "code",
   "execution_count": null,
   "metadata": {},
   "outputs": [],
   "source": []
  },
  {
   "cell_type": "code",
   "execution_count": null,
   "metadata": {},
   "outputs": [],
   "source": []
  },
  {
   "cell_type": "code",
   "execution_count": null,
   "metadata": {},
   "outputs": [],
   "source": [
    "df = cast.withColumn('date_diff', f.unix_timestamp('Due_Date')-f.unix_timestamp('Clearing_Date'))\n",
    "df.show()\n",
    "                    "
   ]
  },
  {
   "cell_type": "code",
   "execution_count": null,
   "metadata": {},
   "outputs": [],
   "source": [
    "timeDiff = (F.unix_timestamp('EndDateTime', format=timeFmt)\n",
    "            - F.unix_timestamp('StartDateTime', format=timeFmt))\n",
    "\n",
    "df = df.withColumn(\"Duration\", timeDiff)"
   ]
  },
  {
   "cell_type": "code",
   "execution_count": null,
   "metadata": {},
   "outputs": [],
   "source": []
  },
  {
   "cell_type": "code",
   "execution_count": null,
   "metadata": {},
   "outputs": [],
   "source": []
  },
  {
   "cell_type": "code",
   "execution_count": null,
   "metadata": {},
   "outputs": [],
   "source": []
  },
  {
   "cell_type": "code",
   "execution_count": null,
   "metadata": {},
   "outputs": [],
   "source": []
  },
  {
   "cell_type": "code",
   "execution_count": null,
   "metadata": {},
   "outputs": [],
   "source": []
  },
  {
   "cell_type": "code",
   "execution_count": null,
   "metadata": {},
   "outputs": [],
   "source": []
  },
  {
   "cell_type": "code",
   "execution_count": null,
   "metadata": {},
   "outputs": [],
   "source": []
  },
  {
   "cell_type": "code",
   "execution_count": null,
   "metadata": {},
   "outputs": [],
   "source": []
  },
  {
   "cell_type": "code",
   "execution_count": null,
   "metadata": {},
   "outputs": [],
   "source": []
  },
  {
   "cell_type": "code",
   "execution_count": null,
   "metadata": {},
   "outputs": [],
   "source": []
  },
  {
   "cell_type": "code",
   "execution_count": null,
   "metadata": {},
   "outputs": [],
   "source": []
  },
  {
   "cell_type": "code",
   "execution_count": null,
   "metadata": {},
   "outputs": [],
   "source": []
  },
  {
   "cell_type": "code",
   "execution_count": null,
   "metadata": {},
   "outputs": [],
   "source": []
  },
  {
   "cell_type": "code",
   "execution_count": null,
   "metadata": {},
   "outputs": [],
   "source": []
  }
 ],
 "metadata": {
  "kernelspec": {
   "display_name": "Python 3",
   "language": "python",
   "name": "python3"
  },
  "language_info": {
   "codemirror_mode": {
    "name": "ipython",
    "version": 3
   },
   "file_extension": ".py",
   "mimetype": "text/x-python",
   "name": "python",
   "nbconvert_exporter": "python",
   "pygments_lexer": "ipython3",
   "version": "3.6.9"
  }
 },
 "nbformat": 4,
 "nbformat_minor": 4
}
